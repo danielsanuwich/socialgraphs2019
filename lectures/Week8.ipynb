{
 "cells": [
  {
   "cell_type": "code",
   "execution_count": 14,
   "metadata": {},
   "outputs": [
    {
     "name": "stdout",
     "output_type": "stream",
     "text": [
      "East Coast Top 10: [('john cena', 12387), (\"shaquille o'neal\", 11869), ('50 cent', 9542), ('cardi b', 8731), (\"lil' kim\", 8533), ('jay-z', 8067), ('nas', 7392), ('dmx', 7090), ('lil peep', 6206), ('french montana', 6080)]\n",
      "West Coast Top 10: [('dr. dre', 10805), ('kendrick lamar', 9385), ('snoop dogg', 9294), ('tupac shakur', 8190), ('the game (rapper)', 6731), ('jay park', 6689), ('becky g', 5888), ('ice-t', 5349), ('tyler, the creator', 4677), ('lecrae', 4389)]\n"
     ]
    },
    {
     "name": "stderr",
     "output_type": "stream",
     "text": [
      "[nltk_data] Downloading package wordnet to\n",
      "[nltk_data]     /Users/danielhoang/nltk_data...\n",
      "[nltk_data]   Package wordnet is already up-to-date!\n",
      "[nltk_data] Downloading package stopwords to\n",
      "[nltk_data]     /Users/danielhoang/nltk_data...\n",
      "[nltk_data]   Package stopwords is already up-to-date!\n"
     ]
    },
    {
     "name": "stdout",
     "output_type": "stream",
     "text": [
      "East Coast TF List: [('wa', 7637), ('album', 5332), ('released', 3693), ('song', 2260), ('single', 2191), ('music', 2176), ('record', 2038), ('new', 1898), ('also', 1751), ('first', 1740)]\n",
      "West Coast TF List: [('wa', 4266), ('album', 3667), ('released', 2545), ('song', 1559), ('music', 1533), ('single', 1438), ('record', 1313), ('also', 1183), ('rapper', 1025), ('first', 946)]\n"
     ]
    }
   ],
   "source": [
    "# IGNORE BELOW. CODE FROM WEEK7\n",
    "\n",
    "import zipfile\n",
    "import os\n",
    "from collections import Counter\n",
    "import string\n",
    "\n",
    "def tokenize_and_count(text):\n",
    "    text = text.lower().translate(str.maketrans('', '', string.punctuation))\n",
    "    tokens = text.split()\n",
    "    return Counter(tokens)\n",
    "\n",
    "def count_total_words(files, dir_path):\n",
    "    word_count = Counter()\n",
    "    for filename in files:\n",
    "        rapper_name = '.'.join(filename.split('.')[:-1]).replace('_', ' ').lower()\n",
    "        file_path = os.path.join(dir_path, filename)\n",
    "        try:\n",
    "            with open(file_path, 'r', encoding='utf-8') as f:\n",
    "                text = f.read()\n",
    "                tokens = tokenize_and_count(text)\n",
    "                word_count[rapper_name] = sum(tokens.values())\n",
    "        except Exception as e:\n",
    "            print(f\"An error occurred while processing {file_path}: {e}\")\n",
    "    return word_count\n",
    "\n",
    "def is_text_file(filename):\n",
    "    return filename.endswith('.txt') and os.path.isfile(filename)\n",
    "\n",
    "def process_zip_and_count_words(zip_path, extract_path):\n",
    "    with zipfile.ZipFile(zip_path, 'r') as zip_ref:\n",
    "        zip_ref.extractall(extract_path)\n",
    "    subfolder_name = os.path.basename(zip_path).split('.zip')[0]\n",
    "    subfolder_path = os.path.join(extract_path, subfolder_name)\n",
    "    files = [f for f in os.listdir(subfolder_path) if is_text_file(os.path.join(subfolder_path, f))]\n",
    "    return count_total_words(files, subfolder_path)\n",
    "\n",
    "if __name__ == \"__main__\":\n",
    "    directory_path = '/Users/danielhoang/Documents/GitHub/socialgraphs2019/lectures/week7_rapper_zip'  \n",
    "\n",
    "    eastcoast_word_count = process_zip_and_count_words(f'{directory_path}/eastcoasttexts.zip', f'{directory_path}/eastcoasttexts')\n",
    "    print(\"East Coast Top 10:\", eastcoast_word_count.most_common(10))\n",
    "\n",
    "    westcoast_word_count = process_zip_and_count_words(f'{directory_path}/westcoasttexts.zip', f'{directory_path}/westcoasttexts')\n",
    "    print(\"West Coast Top 10:\", westcoast_word_count.most_common(10))\n",
    "\n",
    "\n",
    "import zipfile\n",
    "import os\n",
    "from collections import Counter\n",
    "import string\n",
    "from nltk.stem import WordNetLemmatizer\n",
    "from nltk.corpus import stopwords\n",
    "import nltk\n",
    "\n",
    "# Download NLTK data\n",
    "nltk.download('wordnet')\n",
    "nltk.download('stopwords')\n",
    "\n",
    "# Instantiate WordNetLemmatizer and set English stop words\n",
    "lemmatizer = WordNetLemmatizer()\n",
    "stop_words = set(stopwords.words('english'))\n",
    "\n",
    "# Define clean_and_tokenize method that lowercases text, removes punctuation, tokenizes text, lemmatizes text, and removes stop words\n",
    "def clean_and_tokenize(text):\n",
    "    text = text.lower().translate(str.maketrans('', '', string.punctuation))\n",
    "    tokens = text.split()\n",
    "    tokens = [lemmatizer.lemmatize(word) for word in tokens]\n",
    "    tokens = [word for word in tokens if word not in stop_words]\n",
    "    return tokens\n",
    "\n",
    "# Define create_tf_list method that takes a list of files and directory path, and returns a Counter object of word frequencies\n",
    "def create_tf_list(files, dir_path):\n",
    "    tf_list = Counter()\n",
    "    for filename in files:\n",
    "        file_path = os.path.join(dir_path, filename)\n",
    "        with open(file_path, 'r', encoding='utf-8') as f:\n",
    "            text = f.read()\n",
    "            tokens = clean_and_tokenize(text)\n",
    "            tf_list.update(tokens)\n",
    "    return tf_list\n",
    "\n",
    "# Define process_zip_and_count_words method that takes a zip file path and extraction path, and returns a Counter object of word frequencies\n",
    "def process_zip_and_count_words(zip_path, extract_path):\n",
    "    with zipfile.ZipFile(zip_path, 'r') as zip_ref:\n",
    "        zip_ref.extractall(extract_path)\n",
    "    subfolder_name = os.path.basename(zip_path).split('.zip')[0]\n",
    "    subfolder_path = os.path.join(extract_path, subfolder_name)\n",
    "    files = [f for f in os.listdir(subfolder_path) if is_text_file(os.path.join(subfolder_path, f))]\n",
    "    return create_tf_list(files, subfolder_path)\n",
    "\n",
    "# Define directory path\n",
    "directory_path = '/Users/danielhoang/Documents/GitHub/socialgraphs2019/lectures/week7_rapper_zip'\n",
    "\n",
    "# Call process_zip_and_count_words method on East Coast zip file to get Counter object of word frequencies\n",
    "eastcoast_tf_list = process_zip_and_count_words(f'{directory_path}/eastcoasttexts.zip', f'{directory_path}/eastcoasttexts')\n",
    "print(\"East Coast TF List:\", eastcoast_tf_list.most_common(10))\n",
    "\n",
    "# Call process_zip_and_count_words method on West Coast zip file to get Counter object of word frequencies\n",
    "westcoast_tf_list = process_zip_and_count_words(f'{directory_path}/westcoasttexts.zip', f'{directory_path}/westcoasttexts')\n",
    "print(\"West Coast TF List:\", westcoast_tf_list.most_common(10))\n",
    "\n",
    "\n",
    "#Import G_undirected from Week 5\n",
    "import pickle\n",
    "\n",
    "with open('/Users/danielhoang/Documents/GitHub/socialgraphs2019/lectures/G_undirected.gpickle', 'rb') as f:\n",
    "    G_undirected = pickle.load(f)\n",
    "    \n"
   ]
  },
  {
   "cell_type": "markdown",
   "metadata": {},
   "source": [
    "# Intro\n",
    "\n",
    "It's the last time we meet in class for exercises! And to celebrate this mile-stone, we've put together an amazing set of exercises. And if you're behind, don't worry. The workload is low!\n",
    "\n",
    "  - Part A: First, we play around with sentiment analysis\n",
    "  - Part B **(optional)**: We study paths in networks using a fun new dataset. (If only doing part A feels too easy for you, I've added a really fun exercise that should be fun and challenging.)\n",
    "\n",
    "But first, watch this video that touches upon your final project and Assignment 2 (which will be released later Wednesday),\n",
    "\n",
    "> [**Video**](https://www.dropbox.com/scl/fi/jh3490oqnqh4yl629ik09/ProjectAndAssigment.mp4?rlkey=2uyl7tq0xgzydl5u8pqzncf92&dl=0) about the Independent Project and Assignment 2"
   ]
  },
  {
   "cell_type": "markdown",
   "metadata": {},
   "source": [
    "# Part A: Sentiment analysis"
   ]
  },
  {
   "cell_type": "markdown",
   "metadata": {},
   "source": [
    "Sentiment analysis is another highly useful technique which we'll use to make sense of the Wiki\n",
    "data. Further, experience shows that it might well be very useful when you get to the project stage of the class."
   ]
  },
  {
   "cell_type": "markdown",
   "metadata": {},
   "source": [
    "\n",
    "> [**Video Lecture**](https://www.dropbox.com/scl/fi/u0rn767hg7e6ue4ryx41a/Sentiment.mp4?rlkey=4kwfqv6pkw1aijshm5zqe8ehh&dl=0): Sentiment and dictionary-based methods.\n",
    "\n"
   ]
  },
  {
   "cell_type": "code",
   "execution_count": 7,
   "metadata": {},
   "outputs": [
    {
     "data": {
      "image/jpeg": "[encoded data removed]",
      "text/html": [
       "\n",
       "        <iframe\n",
       "            width=\"800\"\n",
       "            height=\"450\"\n",
       "            src=\"https://www.youtube.com/embed/hY0UCD5UiiY\"\n",
       "            frameborder=\"0\"\n",
       "            allowfullscreen\n",
       "            \n",
       "        ></iframe>\n",
       "        "
      ],
      "text/plain": [
       "<IPython.lib.display.YouTubeVideo at 0x7fbe3dfceac0>"
      ]
     },
     "execution_count": 7,
     "metadata": {},
     "output_type": "execute_result"
    }
   ],
   "source": [
    "# There's also this one from 2010 showing Sune Lehmann on national television\n",
    "from IPython.display import YouTubeVideo, HTML, display\n",
    "YouTubeVideo(\"hY0UCD5UiiY\",width=800, height=450)"
   ]
  },
  {
   "cell_type": "markdown",
   "metadata": {},
   "source": [
    "> Reading: [Temporal Patterns of Happiness and Information in a Global Social Network: Hedonometrics and Twitter](http://journals.plos.org/plosone/article?id=10.1371/journal.pone.0026752) \n"
   ]
  },
  {
   "cell_type": "markdown",
   "metadata": {},
   "source": [
    "_Exercise 1_: Sentiment distribution. \n",
    "> \n",
    "> * Download the LabMT wordlist. It's available as supplementary material from [Temporal Patterns of Happiness and Information in a Global Social Network: Hedonometrics and Twitter](http://journals.plos.org/plosone/article?id=10.1371/journal.pone.0026752) (Data Set S1). Describe briefly how the list was generated.\n"
   ]
  },
  {
   "cell_type": "markdown",
   "metadata": {},
   "source": [
    "The dataset was constructed by carrying out a survey to find the happiness associated with over 10,000 words. The words were selected based solely on their frequency of usage.\n",
    "\n"
   ]
  },
  {
   "cell_type": "markdown",
   "metadata": {},
   "source": [
    "> * Based on the LabMT word list, write a function that calculates sentiment given a list of tokens (the tokens should be lower case, etc).\n"
   ]
  },
  {
   "cell_type": "code",
   "execution_count": 13,
   "metadata": {},
   "outputs": [],
   "source": [
    "import os\n",
    "# import txt file\n",
    "LabMT = os.path.join('data', '/Users/danielhoang/Documents/GitHub/socialgraphs2019/files/labMTwordList.txt')\n",
    "\n",
    "# sentiment function given a list of tokens\n",
    "def sentiment(tokens):\n",
    "    # read in labMT\n",
    "    with open(LabMT, 'r') as f:\n",
    "        labMT = f.read().split('\\n')\n",
    "    # remove header and footer\n",
    "    labMT = labMT[31:-1]\n",
    "    # create dictionary\n",
    "    labMT_dict = {}\n",
    "    for word in labMT:\n",
    "        word = word.split('\\t')\n",
    "        labMT_dict[word[0]] = float(word[2])\n",
    "    # calculate sentiment\n",
    "    score = 0\n",
    "    for token in tokens:\n",
    "        if token in labMT_dict:\n",
    "            score += labMT_dict[token]\n",
    "    return score\n",
    "\n"
   ]
  },
  {
   "cell_type": "markdown",
   "metadata": {},
   "source": [
    "> * Iterate over the nodes in your network, tokenize each page, and calculate sentiment every single page. Now you have sentiment as a new nodal property. \n"
   ]
  },
  {
   "cell_type": "code",
   "execution_count": 28,
   "metadata": {},
   "outputs": [],
   "source": [
    "# Modify prev functions to fetch text\n",
    "def get_rapper_texts(files, dir_path):\n",
    "    rapper_texts = {}\n",
    "    for filename in files:\n",
    "        rapper_name = '.'.join(filename.split('.')[:-1]).replace('_', ' ').lower()\n",
    "        file_path = os.path.join(dir_path, filename)\n",
    "        try:\n",
    "            with open(file_path, 'r', encoding='utf-8') as f:\n",
    "                text = f.read()\n",
    "                rapper_texts[rapper_name] = text\n",
    "        except Exception as e:\n",
    "            print(f\"An error occurred while processing {file_path}: {e}\")\n",
    "    return rapper_texts\n",
    "\n",
    "\n",
    "def process_zip_and_get_texts(zip_path, extract_path):\n",
    "    with zipfile.ZipFile(zip_path, 'r') as zip_ref:\n",
    "        zip_ref.extractall(extract_path)\n",
    "    subfolder_name = os.path.basename(zip_path).split('.zip')[0]\n",
    "    subfolder_path = os.path.join(extract_path, subfolder_name)\n",
    "    files = [f for f in os.listdir(subfolder_path) if is_text_file(os.path.join(subfolder_path, f))]\n",
    "    return get_rapper_texts(files, subfolder_path)\n",
    "\n",
    "if __name__ == \"__main__\":\n",
    "    directory_path = '/Users/danielhoang/Documents/GitHub/socialgraphs2019/lectures/week7_rapper_zip'  \n",
    "\n",
    "    eastcoast_texts = process_zip_and_get_texts(f'{directory_path}/eastcoasttexts.zip', f'{directory_path}/eastcoasttexts')\n",
    "    westcoast_texts = process_zip_and_get_texts(f'{directory_path}/westcoasttexts.zip', f'{directory_path}/westcoasttexts')\n",
    "\n"
   ]
  },
  {
   "cell_type": "code",
   "execution_count": 32,
   "metadata": {},
   "outputs": [
    {
     "name": "stdout",
     "output_type": "stream",
     "text": [
      "{'6ix9ine': 13246.939999999984, '9th Prince': 928.73, '22Gz': 1080.7800000000004, '38 Spesh': 960.8600000000008, 'The 45 King': 3088.850000000003, '50 Cent': 25621.120000000177, '60 Second Assassin (rapper)': 335.32, '88-Keys': 1911.1899999999969, 'Sammy Adams': 3468.200000000003, 'Adeem (rapper)': 3624.7600000000066, 'Aesop Rock': 6009.930000000004, 'Afu-Ra': 856.0700000000005, 'Akir': 1522.9099999999996, 'Akrobatik': 1310.4399999999996, 'Alias (musician)': 1686.2399999999986, 'Hoodie Allen': 4773.029999999996, 'Amil': 1109.62, 'Antoinette (rapper)': 342.0, 'Aone Beats': 2958.5499999999993, 'Apache (rapper)': 548.5000000000002, 'Apathy (rapper)': 3369.9400000000014, 'AR-Ab': 3225.1199999999985, 'AraabMuzik': 3535.0299999999993, 'Arkatech Beatz': 2115.240000000002, 'M. K. Asante': 3420.4800000000055, 'Asheru': 1465.22, 'The Audible Doctor': 1083.1200000000006, 'Awkwafina': 4460.670000000006, 'AZ (rapper)': 3567.989999999996, 'Apani B. Fly': 418.1799999999998, 'DJ Babu': 2018.3300000000004, 'Bahamadia': 452.19999999999993, 'Marty Baller': 946.7799999999997, 'Charli Baltimore': 1347.4800000000002, 'Afrika Bambaataa': 7479.889999999995, 'Bodega Bamz': 595.34, 'Azealia Banks': 10687.62999999999, 'Lloyd Banks': 6618.180000000008, 'MC Paul Barman': 1402.1200000000003, 'Mark Batson': 8710.559999999976, 'The Beat Bully': 1948.7300000000005, 'Jahlil Beats': 4057.8300000000095, 'Beedie (rapper)': 1960.1800000000003, 'Benny the Butcher': 2112.4099999999994, 'Benzino': 1618.8000000000002, 'Big Body Bes': 766.4400000000006, 'Big Daddy Kane': 4943.810000000004, 'Big Pun': 3219.369999999999, 'Big Shug': 2319.2700000000004, 'Bkorn': 1084.5200000000004, 'Black Child': 2348.3900000000017, 'Black Rob': 1957.090000000001, 'Black Thought': 3902.7100000000014, 'Memphis Bleek': 2868.260000000003, 'Blockhead (music producer)': 2133.6600000000017, 'Action Bronson': 4661.259999999998, 'Bronx Style Bob': 2276.409999999998, 'Foxy Brown (rapper)': 8577.740000000003, 'Tommy Brown (record producer)': 780.1200000000003, 'Ron Browz': 1382.53, 'Buckshot (rapper)': 2317.599999999999, 'Buckwild (music producer)': 2607.6899999999996, 'Joe Budden': 5217.200000000009, 'Dai Burger': 1362.97, 'Cage (rapper)': 3862.480000000004, 'Crystal Caines': 1026.09, 'Call Me Ace': 2026.1700000000008, \"Cam'ron\": 9055.620000000017, 'Canibus': 6955.020000000004, 'Don Cannon': 2028.26, 'Capella Grey': 1709.3400000000004, 'Capital Steez': 3495.0899999999983, 'Capone (rapper)': 583.8299999999998, 'Cappadonna': 1231.1099999999997, 'Kid Capri': 1822.2300000000002, 'Cardi B': 23359.01000000013, 'Cardiak': 3839.8100000000018, 'Casanova (rapper)': 1631.8500000000004, 'Cassidy (rapper)': 3312.1499999999983, 'Grandmaster Caz': 2579.8800000000037, 'Cazwell': 2387.4399999999955, \"Lil' Cease\": 1076.39, 'John Cena': 27739.03999999994, 'Ceschi': 1886.27, 'DJ Charlie Chase': 1601.7500000000032, 'Chinx': 4263.060000000001, 'DJ Chuck Chillout': 1159.0700000000006, 'Chyskillz': 4072.769999999999, 'CJ (rapper)': 718.7599999999999, 'Clams Casino (musician)': 755.1599999999995, 'Sean Combs': 11674.279999999972, 'Consequence (rapper)': 1406.5700000000008, 'Conway the Machine': 1428.1599999999994, 'Cool C': 1658.9700000000003, 'Cordae': 3599.3799999999974, 'Cousin Stizz': 1108.0000000000005, 'Keef Cowboy': 647.9000000000002, 'Jay Critch': 1836.6600000000005, 'Cuban Link': 1349.0399999999995, 'D-Nice': 1591.0000000000016, 'Daddy-O (rapper)': 2564.9000000000037, 'Danger Mouse (musician)': 7263.779999999998, 'Danny Boy (rapper)': 8306.84, 'Dash (rapper)': 1270.5599999999993, 'Desiigner': 2575.840000000003, 'Diabolic (rapper)': 1153.4900000000007, 'Kosha Dillz': 2455.3900000000003, 'Flipp Dinero': 1555.669999999999, 'Disco King Mario': 1237.4599999999998, 'DJ Disco Wiz': 1444.31, 'DMX': 18525.729999999952, 'Tim Dog': 3146.869999999995, 'B. Dolan': 2166.4699999999966, 'Don Q (rapper)': 2447.7200000000025, 'MF Doom': 8620.230000000009, 'Dot da Genius': 2604.0899999999974, 'Drag-On': 338.84, 'DJ Drama': 3971.2499999999986, 'Dub-L': 1567.4699999999993, 'Dutch ReBelle': 1027.8800000000008, 'DVLP': 3147.349999999998, 'Smoke DZA': 1950.350000000002, 'E.D.I. Mean': 2031.9799999999996, 'East Flatbush Project': 465.13000000000017, 'Dave East': 4930.750000000003, 'Ed O.G.': 2567.3599999999983, 'El-P': 3776.640000000001, 'Eric B.': 1950.3899999999992, 'Esoteric (rapper)': 4064.120000000002, 'Eve (rapper)': 8448.159999999994, 'Eyenine': 2159.0600000000013, 'Fabolous': 8291.349999999995, 'Mickey Factz': 2378.53, 'Fat Joe': 9198.55999999998, 'Hussein Fatal': 995.3799999999998, 'Felly': 1655.2700000000002, 'ASAP Ferg': 3370.0599999999995, 'Grandmaster Flash': 5770.429999999983, 'CJ Fly': 1800.9499999999987, 'Focus...': 2585.770000000001, 'Fivio Foreign': 1892.9399999999987, 'Freddie Foxxx': 2621.639999999995, 'Njena Reddd Foxxx': 645.9300000000001, 'Sage Francis': 2665.690000000002, 'Harry Fraud': 4625.350000000007, 'Fred the Godson': 1025.8899999999999, 'Freekey Zekey': 1230.1400000000006, 'Frenchie (rapper)': 2800.240000000003, 'Fresh Kid Ice': 9135.260000000006, 'Doug E. Fresh': 5574.020000000007, 'Funkmaster Flex': 4001.2599999999916, 'Ty Fyffe': 1483.9699999999991, 'G Koop': 2677.5300000000047, 'Heather B. Gardner': 1624.8800000000003, 'Mic Geronimo': 571.6600000000002, 'Ghostface Killah': 5551.070000000006, 'Godfather Don': 1215.609999999999, 'Irv Gotti': 2350.8500000000017, 'Jean Grae': 2539.099999999999, 'Grafh': 1076.2699999999995, 'Dame Grease': 3035.2100000000037, 'MF Grimm': 5061.609999999994, 'Cory Gunz': 1253.0999999999997, 'Guru (rapper)': 3118.339999999997, 'GZA': 3928.0500000000047, 'Half a Mill': 338.54, 'Sleepy Hallow': 1447.0099999999989, 'Charles Hamilton (rapper)': 10669.510000000006, 'Andre Harrell': 1655.22, 'Havoc (musician)': 2128.41, 'Emile Haynie': 2069.319999999999, 'Heavy D': 2668.1999999999985, 'Hell Rell': 794.0700000000002, 'Samuel T. Herring': 1757.2900000000006, 'Chad Hugo': 1341.6099999999994, 'DJ Hurricane': 1776.4099999999987, 'Ice Spice': 3223.51, 'Ill Bill': 3219.170000000003, 'Inspectah Deck': 3058.2899999999986, 'Islord': 386.5799999999999, 'J.I the Prince of N.Y': 1983.4999999999986, 'J57 (rapper)': 3689.0499999999947, 'Ja Rule': 13662.940000000097, 'Jadakiss': 6570.249999999997, 'Ms. Jade': 306.00000000000006, 'Mike Jaggerr': 1229.7599999999998, 'Jam Master Jay': 3329.9500000000035, 'Jasiri X': 1188.8300000000004, 'Jay-Z': 21174.36000000002, 'Jaz-O': 4473.260000000002, 'MC Jazzy Jeff': 589.2299999999999, 'DJ Jazzy Joyce': 887.8600000000009, 'MC Jin': 5803.909999999994, 'Jipsta': 8920.379999999996, 'Joey Badass': 5703.260000000011, 'Chilla Jones': 2761.2700000000013, 'Serius Jones': 2122.930000000003, 'JPEGMafia': 3598.579999999993, 'Junglepussy': 2083.35, 'Just Blaze': 627.1000000000001, 'Just-Ice': 540.1199999999999, 'Kastro (rapper)': 1199.5899999999997, 'DJ Kay Slay': 1935.2699999999986, 'Kemba (rapper)': 2625.7000000000003, 'Wiz Khalifa': 7195.03999999999, 'Killa Sin': 469.2699999999999, 'Kirk Knight': 698.4700000000003, 'Tate Kobang': 2200.2199999999984, 'Kool G Rap': 4633.849999999998, 'Kool Moe Dee': 2904.459999999997, 'KRS-One': 8349.530000000004, 'Talib Kweli': 8579.999999999985, 'Big L': 6458.980000000002, 'Coke La Rock': 2391.7699999999995, 'Scott La Rock': 1323.8400000000004, 'Lady B': 1276.519999999999, 'Al Sherrod Lambert': 3073.529999999994, 'Lamiere': 766.6800000000002, 'Knero Lapaé': 1772.3999999999992, 'Lee on the Beats': 1443.0000000000002, 'Trip Lee': 2877.870000000001, 'Le1f': 1575.6399999999994, 'Johan Lenox': 1216.31, 'Coi Leray': 3039.060000000002, 'Alrad Lewis': 927.47, 'Rob Lewis (record producer)': 766.6800000000001, 'Mr. Lif': 1889.919999999999, 'Like (record producer)': 879.7800000000002, 'Lil Dicky': 3434.800000000003, 'Lil Mama': 9035.389999999996, 'Lil Peep': 16514.58000000001, 'Lil Tjay': 4320.949999999996, \"Lil' Kim\": 24053.030000000123, 'Lin Que': 1103.8799999999992, 'Ex-plicit linez': 2035.61, 'Dusty Locane': 1502.149999999999, 'Nicholas Loftin': 1021.4900000000009, 'Sheek Louch': 997.8400000000003, 'Louis Logic': 2015.25, 'Ed Lover': 2408.269999999998, 'Jan Lucanus': 9531.410000000025, 'Joyner Lucas': 5350.399999999997, 'MC Lyte': 14015.329999999985, 'M-Dot': 4661.39000000001, 'Remy Ma': 7085.94999999999, 'China Mac': 1195.7200000000003, 'Mach-Hommy': 1375.6900000000003, 'Craig Mack': 2360.509999999996, 'Malik B.': 903.82, 'Roc Marciano': 1101.3000000000002, 'Biz Markie': 5267.689999999989, 'Marley Marl': 2290.139999999999, 'Brother Marquis': 10765.100000000064, 'Skizzy Mars': 397.03999999999985, 'Mase': 5997.829999999999, 'Masta Killa': 2308.3300000000004, 'Mathematics (producer)': 3129.039999999998, 'Ivan Matias': 1691.5600000000004, 'Lady May (rapper)': 1167.3800000000003, 'Darryl McDaniels': 5742.509999999995, 'McGruff (rapper)': 1096.4500000000007, 'Megahertz (record producer)': 3031.4399999999996, 'Melle Mel': 4132.009999999995, 'Method Man': 10164.639999999987, 'Mikey D': 2695.3100000000018, 'Derrick Milano': 1339.25, 'Meek Mill': 15486.76999999993, 'Mac Miller': 8234.059999999987, 'Jae Millz': 1492.8699999999992, 'Mims (rapper)': 2583.169999999998, 'Andy Mineo': 5924.469999999997, \"Mr. Muthafuckin' eXquire\": 1553.35, 'Mr. Mixx': 7647.680000000011, 'Easy Mo Bee': 2100.9700000000007, 'Pharoahe Monch': 3192.529999999998, 'French Montana': 16323.349999999964, 'Mos Def': 10180.630000000003, 'Ali Shaheed Muhammad': 837.9300000000003, 'Uncle Murda': 1457.6400000000006, 'Keith Murray': 2336.1600000000017, 'Myzery': 2834.310000000002, 'N.O.R.E.': 4105.959999999998, 'Nas': 19341.94999999991, 'ASAP Nast': 1995.1199999999988, 'Necro (rapper)': 6231.519999999991, 'Bishop Nehru': 1294.1399999999994, 'Neo da Matrix': 1617.9499999999994, 'Nine (rapper)': 772.7600000000006, 'No Malice': 3010.389999999998, 'Young Noble': 768.3199999999997, 'NOE (rapper)': 2277.5300000000007, 'Princess Nokia': 2571.3800000000015, 'The Notorious B.I.G.': 15786.21000000007, 'O.C. (rapper)': 2527.859999999997, \"Ol' Dirty Bastard\": 5726.589999999996, \"Shaquille O'Neal\": 29606.189999999973, 'Joell Ortiz': 2886.219999999996, 'Styles P': 3663.0600000000045, 'Prince Paul (producer)': 6752.880000000006, 'Felicia Pearson': 1781.5800000000006, 'Pepa (rapper)': 2411.0500000000025, 'Percee P': 1155.479999999999, 'Pete Rock': 5737.710000000014, 'Petey Pablo': 1868.2099999999994, 'Phife Dawg': 2617.1699999999996, 'Stelios Phili': 1808.2700000000002, 'Jamal Phillips': 861.86, 'Phresher': 3560.4599999999955, 'Pras': 2882.670000000001, 'DJ Premier': 4261.269999999998, 'Sean Price': 1276.4299999999996, 'Prince Whipper Whip': 470.21999999999974, 'Princess Superstar': 3638.2900000000013, 'Prodigy (rapper)': 5534.899999999997, 'Large Professor': 3869.229999999998, 'Prolyphic': 1106.9399999999996, 'Pumpkinhead (rapper)': 1427.1699999999994, 'Pusha T': 11284.840000000055, 'Q-Tip (musician)': 8768.240000000022, 'Queen Latifah': 11101.00999999997, 'Queen Pen': 1774.9999999999998, 'Radamiz': 776.8299999999996, 'Rah Swish': 1402.869999999999, 'Rakim': 8825.83, 'Kyle Rapps': 2021.1699999999992, 'Hell Razah': 3924.5700000000024, 'Oryn the Rebel': 751.8499999999998, 'Red Café': 1097.6999999999996, 'Redman (rapper)': 6200.890000000006, 'Reks': 1288.29, 'Salaam Remi': 1567.94, 'Busta Rhymes': 11383.360000000024, 'Chubb Rock': 1798.349999999999, 'Rockwilder': 920.6799999999997, 'ASAP Rocky': 10434.049999999987, 'Roscoe (rapper)': 1282.0000000000002, 'Asher Roth': 3975.5900000000015, 'David Rush (rapper)': 827.12, 'RZA': 9914.789999999994, 'Sadat X': 1612.25, 'Saga (rapper)': 970.7200000000003, 'Saigon (rapper)': 2845.149999999997, 'Salt (rapper)': 1452.1100000000001, 'Juelz Santana': 4402.650000000006, 'Sauce Money': 1058.4000000000003, 'Scar Lip': 1093.0400000000002, 'Schoolly D': 2086.450000000001, 'Jill Scott (singer)': 8379.199999999997, 'DJ Scratch': 1938.9399999999987, 'Sensato del Patio': 1116.4, 'Erick Sermon': 1522.5500000000002, 'Sha Money XL': 1828.3299999999977, 'Jonathan Shecter': 1212.7000000000003, 'Sheff G': 1946.3500000000004, 'Bobby Shmurda': 3700.199999999997, 'Shock G': 7173.799999999973, 'Kiing Shooter': 2041.4299999999978, 'Shyne': 9366.700000000032, 'Beanie Sigel': 4124.979999999993, 'Silkski': 3143.640000000001, 'Siya': 1464.7999999999975, 'DJ Skee': 1737.1799999999998, 'Lil Skies': 2226.459999999999, 'Skinnyfromthe9': 1589.9000000000008, 'Slaine (rapper)': 5838.15000000002, 'Rashad Smith (producer)': 3243.479999999995, 'Will Smith': 14457.120000000079, 'Pop Smoke': 7410.98999999998, 'CL Smooth': 1971.3500000000001, 'Sam Sneed': 1035.2200000000003, 'Sonaro': 1736.16, 'Spank Rock': 2498.249999999998, 'Special K (rapper)': 1376.48, 'Jimmy Spicer': 702.3399999999997, 'Spoonie Gee': 1736.5800000000008, 'Spose': 2017.3699999999974, 'Busy Bee Starski': 1090.6699999999998, 'Statik Selektah': 2212.549999999999, 'David Stones': 2643.4199999999996, 'Street Life (rapper)': 1404.5200000000007, 'DJ Stretch Armstrong': 1034.970000000001, 'Swizz Beatz': 9619.169999999996, 'Yhaunai Takiyal': 1735.0100000000002, 'Teyana Taylor': 5705.710000000008, 'Lil Tecca': 1173.63, 'Sweet Tee': 751.8399999999997, 'Termanology': 2155.4999999999986, 'Token (rapper)': 2210.7500000000005, 'Tone Trump': 1074.8300000000006, 'Tha Trademarc': 863.5500000000001, 'Treach': 1269.9200000000008, 'ASAP Twelvyy': 1917.9999999999975, 'U-God': 1971.6199999999972, 'Vado (rapper)': 1213.329999999999, 'Justina Valentine': 1747.8600000000015, 'Ali Vegas': 1260.6599999999999, 'Vinylz': 1168.5500000000004, 'Fetty Wap': 4177.869999999998, 'Ohmega Watts': 1121.6799999999998, 'Chris Webby': 3563.7500000000036, 'DJ Webstar': 299.98, 'Westside Gunn': 1718.919999999999, 'Tierra Whack': 4719.170000000001, 'DJ Whoo Kid': 5139.809999999995, 'Saul Williams': 4526.159999999994, 'Wise (musician)': 2183.5200000000004, 'Chevy Woods': 3707.0400000000027, 'Jimmy Wopo': 1213.0100000000002, 'J.R. Writer': 682.2700000000001, 'Wyldfyer': 554.2, 'Tony Yayo': 4296.919999999998, 'Young Chris': 2770.990000000003, 'Young M.A': 4561.159999999994, 'Young Music DYMG': 1106.330000000001, 'Younglord': 1275.2399999999993, 'ZillaKami': 1870.1100000000004, 'Mike Zombie': 992.0400000000005, '03 Greedo': 2851.6799999999985, '24kGoldn': 1804.6000000000001, '40 Glocc': 2883.2300000000055, 'DJ A-Tron': 1114.9300000000005, 'Ab-Soul': 6981.670000000012, 'Abstract Rude': 1949.1699999999994, 'Aceyalone': 1542.5199999999998, 'Afroman': 2900.599999999998, \"Ak'Sent\": 1622.609999999998, 'The Alchemist (musician)': 5676.419999999996, 'AMG (rapper)': 651.05, 'Antwon': 1598.2900000000004, 'B-Legit': 2022.810000000003, 'B-Real': 3158.930000000004, 'B.G. Knocc Out': 763.52, 'Show Banga': 2012.5299999999988, 'Ant Banks': 2589.7700000000013, 'Sho Baraka': 1945.0299999999988, 'Becky G': 15987.719999999968, 'Beeda Weeda': 0, 'Beefy (rapper)': 1889.51, 'Berner (rapper)': 3127.8800000000083, 'Big B (rapper)': 1123.9900000000002, 'Big Dave (rapper)': 2035.2899999999995, 'Big Ed (rapper)': 1012.0600000000001, 'Big Fase 100': 686.0300000000002, 'Bizzle': 3185.049999999998, 'Aloe Blacc': 4273.780000000001, 'Guerilla Black': 620.4099999999999, 'Nissim Black': 4695.830000000001, 'Toni Blackman': 1194.7900000000004, 'Blueface': 3839.809999999999, 'Blxst': 1222.6200000000001, 'Bones (rapper)': 3354.1099999999974, 'Braille (musician)': 2037.2500000000016, 'Buddy (rapper)': 1494.8100000000002, 'Busdriver': 2775.7800000000007, 'Scott Caan': 1891.96, 'Sway Calloway': 2110.7900000000013, 'Nick Cannon': 6416.019999999994, \"Captain Save 'Em\": 0, 'Clyde Carson': 2613.7300000000027, 'Celestaphone': 535.2600000000001, 'DJ Cheapshot': 1174.69, 'Tha Chill': 1428.4699999999975, 'Shawn Chrystopher': 2771.1799999999994, 'Chanel West Coast': 2562.4100000000003, 'Conceit (rapper)': 357.4, 'Coolio': 5767.41999999999, 'Cozz': 1192.619999999999, 'Crooked I': 6518.149999999998, 'Omega Crosby': 694.57, 'Cut Chemist': 2017.0599999999984, 'D-Loc': 1080.4400000000005, 'The D.O.C.': 4362.300000000003, 'Daddy X': 383.41999999999996, 'DJ Dahi': 6757.900000000009, 'Dazzie Dee': 1189.879999999999, 'DB Tha General': 0, 'Del the Funky Homosapien': 5577.87, 'Timothy DeLaGhetto': 1655.6400000000008, 'Demrick': 1458.2, 'Scoop DeVille': 736.2000000000003, 'Daz Dillinger': 2432.620000000001, 'Nate Dogg': 3663.0600000000018, 'Snoop Dogg': 24694.54999999989, 'Domino (rapper)': 874.3800000000005, 'Drakeo the Ruler': 2293.8399999999992, 'Dr. Dre': 28804.0700000002, 'Droop-E': 4763.350000000007, 'Dubb 20': 0, 'Dumbfoundead': 1938.050000000001, 'E-40': 7014.650000000008, 'Eazy-E': 5582.440000000004, 'MC Eiht': 3257.83, 'Eprhyme': 2568.5900000000015, 'Evidence (musician)': 2255.699999999999, 'Exile (producer)': 558.34, 'Fashawn': 3801.1400000000017, 'Fatlip': 2250.8199999999993, 'Joey Fatts': 2019.7800000000007, 'Kevin Federline': 5327.559999999995, 'JT the Bigga Figga': 2027.7500000000016, 'Flash Bang Grenada': 202.3, 'Flying Lotus': 5079.759999999995, 'Shawn Fonteno': 595.8799999999999, 'Foreknown (rapper)': 395.0399999999999, 'Dave Free': 1368.5200000000013, 'Mike Free': 1106.8700000000006, 'DJ Fresh (American DJ)': 1775.1999999999996, 'MC Frontalot': 3173.860000000001, 'Frost (rapper)': 2311.1900000000055, 'Futuristic (rapper)': 2918.549999999998, 'The Futuristics': 1269.67, 'G-Nut': 0, 'G-Stack': 0, 'The Game (rapper)': 18475.909999999974, 'GaTa': 949.1800000000001, 'O.T. Genasis': 769.2599999999995, 'Domo Genesis': 1843.71, 'Gift of Gab (rapper)': 2413.2000000000007, 'Grieves': 1258.1, \"Haiku d'Etat\": 627.84, 'Hi-C (rapper)': 187.34000000000006, 'Hit-Boy': 3372.89, 'Hittman': 602.3800000000001, 'Hodgy': 1203.1599999999996, 'Hopsin': 7276.999999999996, 'Hot Rod (rapper)': 1426.23, 'Houston (singer)': 979.7499999999995, 'Brotha Lynch Hung': 1662.8099999999988, 'Hurt-M-Badd': 299.2599999999999, 'Nipsey Hussle': 9442.20999999998, 'Skhye Hutch': 1722.9099999999999, 'Iame (rapper)': 1040.1000000000008, 'Iamsu!': 2185.960000000002, 'Ice Cube': 10500.210000000037, 'Ice-T': 14115.739999999967, 'ILoveMakonnen': 3151.8999999999996, 'The Jacka': 1074.5600000000002, 'Jake One': 919.1999999999997, 'Noa James': 4085.0800000000045, 'Jel (music producer)': 1575.7899999999988, 'Jeff Jericho': 1512.869999999999, 'JGivens': 758.9800000000004, 'JHawk': 3513.4099999999953, 'Sir Jinx': 2683.4400000000037, 'Hobo Johnson': 1624.2099999999994, 'Self Jupiter': 922.2600000000002, 'K-the-I???': 641.1099999999999, 'Kam (rapper)': 1142.9099999999999, 'Keak da Sneak': 1544.1700000000005, 'Baby Keem': 2005.9599999999982, 'Dom Kennedy': 4146.149999999999, 'DJ Khalil': 711.0999999999998, 'Kid Ink': 3147.4199999999955, 'Killa Keise': 0, 'DJ King Assassin': 2066.91, 'King Lil G': 389.29, 'King Tech': 1197.0900000000004, 'King T': 2763.0999999999985, 'Curtiss King': 2296.5500000000006, 'Rydah J. Klyde': 870.8599999999996, 'Knightowl': 979.7799999999999, 'Knxwledge': 1703.1499999999996, 'Kokane': 2012.7199999999984, 'Kossisko': 2733.1400000000017, 'Kreayshawn': 3563.9100000000058, 'Krondon': 749.0099999999996, 'Kurupt': 4588.359999999992, 'Kyle (musician)': 1902.7800000000002, 'Kendrick Lamar': 24810.100000000082, 'Bishop Lamont': 1519.9000000000008, 'MC Lars': 3129.899999999998, 'Lecrae': 11509.349999999977, 'Lefty (rapper)': 1831.4000000000021, 'Shorty (American rapper)': 2068.980000000002, 'Lil B': 6446.609999999988, 'Lil Debbie': 1558.569999999999, 'Lil Italy': 468.54999999999995, 'Lil Ric': 522.66, 'Lil Rob': 1340.0500000000006, 'Lil Xan': 2227.47, \"Lil' C-Style\": 0, 'Locksmith (rapper)': 2302.120000000002, 'LoveRance': 256.46, 'Luni Coleone': 2416.7099999999996, 'Mac Dre': 2575.359999999999, 'CJ Mac': 629.7699999999999, 'Mack 10': 1405.86, 'Macklemore': 6259.6899999999905, 'Madlib': 4048.9599999999973, 'Mac Mall': 2085.129999999999, 'Glasses Malone': 1743.2200000000003, 'Mann (rapper)': 700.1899999999999, 'Mayne Mannish': 575.6999999999999, 'Terrace Martin': 2711.220000000001, 'Young Maylay': 2496.390000000001, 'Trevor McFedries': 2332.1600000000017, 'Mr. J. Medeiros': 6299.030000000003, 'Eli Meltzer': 2717.0400000000036, 'Messy Marv': 1874.310000000002, 'Cymphonique Miller': 1054.2600000000004, 'Mistah F.A.B.': 4295.7699999999995, 'Mix Master Mike': 2969.14, 'Slim the Mobster': 1132.4, 'Jonathan Moore (musician)': 1872.2700000000016, 'Lil Mosey': 8217.699999999986, 'Mr. Capone-E': 1992.0699999999995, 'Mr. Skrillz': 0, 'Mugzi': 0, 'Murs (rapper)': 1741.4399999999982, 'Myka 9': 3526.0700000000024, 'Emcee N.I.C.E.': 2287.0799999999977, 'Shady Nate': 1538.2700000000018, 'Damani Nkosi': 1026.19, 'Nobody (producer)': 1777.7500000000014, 'Nocando': 1776.2099999999998, 'Cool Nutz': 1035.05, 'O.Y.G Redrum 781': 1378.2900000000004, 'Oh No (musician)': 2782.700000000002, 'OhGeesy': 632.7200000000003, 'Only Won': 2486.9599999999987, 'Paris (rapper)': 4878.100000000002, 'Jay Park': 19545.490000000056, 'Passion (rapper)': 254.36999999999995, 'Peace (rapper)': 1518.119999999999, 'J Peezy': 1869.9200000000003, 'Dudley Perkins (rapper)': 1282.93, 'Phil Da Agony': 0, 'Playalitical': 1176.47, 'Pooh-Man': 447.2399999999999, 'Problem (rapper)': 1967.7399999999996, 'Psychosiz': 762.4, 'Punch (rapper)': 712.1999999999997, 'Schoolboy Q': 7573.550000000015, 'Quazedelic': 2859.1500000000037, 'DJ Quik': 6919.740000000003, 'San Quinn': 1571.670000000001, 'Captain Rapp': 632.2700000000001, \"Rappin' 4-Tay\": 1447.8799999999997, 'Ras Kass': 4030.569999999998, 'RBX': 1408.5499999999988, 'Reason (American rapper)': 1272.6600000000005, 'Red Cloud (rapper)': 3043.1700000000014, 'Redfoo': 3575.1000000000013, 'The Real Richie Rich': 4826.649999999997, 'Boots Riley': 4546.140000000001, 'Ash Riser': 2040.58, 'Jay Rock': 3600.7199999999993, 'V. Rose': 1539.27, 'Sadistik': 937.4199999999998, 'Sage the Gemini': 1225.5399999999993, 'Saint Dog': 866.2099999999991, 'Saweetie': 3888.870000000001, 'Seagram (rapper)': 527.5400000000003, 'Amanda Seales': 2520.049999999996, 'Tupac Shakur': 20273.170000000016, 'Mac Shawn': 0, 'Shade Sheist': 2124.929999999999, 'Mike Shinoda': 10966.869999999986, 'Too Short': 3304.1999999999994, 'Shorty Mack': 439.6299999999999, 'Shwayze': 3448.740000000003, 'Dom Sicily': 919.7799999999999, 'Raz Simone': 1455.8100000000018, 'Sir Mix-a-Lot': 4149.210000000003, 'Skee-Lo': 1507.0999999999997, 'Skeme': 4342.930000000003, 'Skinhead Rob': 1178.99, 'Sky Blu (rapper)': 2265.3100000000027, 'Sleep (rapper)': 1702.0099999999986, 'Sleep Dank': 454.7200000000001, 'Mitchy Slick': 1721.5699999999997, 'Slimkid3': 1177.0800000000006, 'Slip Capone': 960.1200000000008, 'Na-Kel Smith': 501.00000000000006, 'D Smoke': 988.5300000000005, 'Smooth (singer)': 1502.0899999999988, 'Snow Tha Product': 4436.930000000006, 'Soopafly': 1303.3800000000003, 'Sounwave': 2954.3399999999965, 'Speak!': 383.1800000000001, 'Spice 1': 982.3900000000006, 'Spider Loc': 2556.7899999999995, 'Vince Staples': 4655.330000000002, 'Parlay Starr': 1107.0300000000004, 'Rob Stone (rapper)': 701.5899999999998, 'Stressmatic': 0, 'Suga Free': 2804.3799999999987, 'Suga-T': 834.4100000000004, 'Earl Sweatshirt': 7641.01000000001, 'Syd (singer)': 1868.0699999999981, 'Big Syke': 824.7400000000007, 'Taboo (rapper)': 3434.419999999998, 'Tairrie B': 1542.21, 'Tanna Leone': 1783.6700000000003, 'Tedashii': 1001.34, 'TeeFlii': 2713.4200000000014, 'Thurz': 1780.4099999999999, 'Tiger JK': 2797.54, 'Time (rapper)': 1570.7299999999993, 'Ms. Toi': 1451.7600000000002, 'Tone Loc': 2654.6999999999994, 'Isaiah Toothtaker': 798.06, 'Channel Tres': 667.7199999999997, 'MC Trouble': 878.5400000000004, 'Ty Dolla Sign': 7564.269999999994, 'Tyler, the Creator': 12230.919999999986, 'The Unknown DJ': 1164.149999999999, 'V-Nasty': 2824.2499999999945, 'V-White': 0, 'Casey Veggies': 1625.0699999999988, 'Warren G': 6798.379999999988, 'WC (rapper)': 1594.89, 'Willie B (producer)': 1536.6999999999978, 'Dizzy Wright': 3938.7400000000116, 'Xzibit': 6746.43, 'Ya Boy': 987.9700000000006, 'Yeat': 3344.4399999999987, 'YG (rapper)': 5676.300000000011, 'YGD Tha Top Dogg': 1118.4800000000007, 'Yo-Yo (rapper)': 1779.3300000000002, 'Yukmouth': 1336.56, 'Zealous1': 1612.4500000000019, 'Asaiah Ziv': 1420.5299999999993}\n"
     ]
    }
   ],
   "source": [
    "import networkx as nx\n",
    "\n",
    "# store sentiment values for each node in the network\n",
    "node_sentiments = {}\n",
    "\n",
    "for node in G_undirected:\n",
    "    # make lowercase\n",
    "    normalized_node = node.lower()\n",
    "    \n",
    "    # Check if exists in either of the text dictionaries\n",
    "    if normalized_node in eastcoast_texts or normalized_node in westcoast_texts:\n",
    "        # Fetch text corresponding to the node from the dictionaries\n",
    "        text = eastcoast_texts.get(normalized_node, \"\") + westcoast_texts.get(normalized_node, \"\")\n",
    "        \n",
    "        # Tokenize and clean the text\n",
    "        tokens = clean_and_tokenize(text)\n",
    "        node_sentiment = sentiment(tokens) # calculate its sentiment value\n",
    "        \n",
    "        # Store the sentiment value in the node_sentiments dictionary\n",
    "        node_sentiments[node] = node_sentiment\n",
    "    else:\n",
    "        # Print if text for a node is not found\n",
    "        print(f\"Text not found for node: {node}\")\n",
    "\n",
    "\n",
    "# print sentiment\n",
    "print(node_sentiments)\n"
   ]
  },
  {
   "cell_type": "markdown",
   "metadata": {},
   "source": [
    "> * Remember histograms? Create a histogram of all character's associated page-sentiments. (And make it a nice histogram - use your histogram making skills from Week 2).\n"
   ]
  },
  {
   "cell_type": "code",
   "execution_count": null,
   "metadata": {},
   "outputs": [],
   "source": [
    "import matplotlib.pyplot as plt\n",
    "\n",
    "# Create histogram of character's associated page-sentiments\n",
    "\n",
    "\n",
    "\n",
    "\n"
   ]
  },
  {
   "cell_type": "markdown",
   "metadata": {},
   "source": [
    "> * Who are the 10 rappers with happiest and saddest pages?\n",
    "\n",
    "<!---\n",
    "> * Now we average the average sentiment of the nodes in each community to find a *community level sentiment*. \n",
    ">   - Name each community by its three most connected characters. \n",
    ">   - What are the three happiest communities? \n",
    ">   - what are the three saddest communities?\n",
    ">   - Do these results confirm what you can learn about each community by skimming the wikipedia pages?\n",
    "--->\n",
    "\n",
    "**Note**: Calculating sentiment takes a long time, so arm yourself with patience as your code runs (remember to check that it runs correctly, before waiting patiently). Further, these tips may speed things up. And save somewhere, so you don't have to start over.\n",
    "\n",
    "**Tips for speed**\n",
    "* If you use `freqDist` prior to finding the sentiment, you only have to find it for every unique word and hereafter you can do a weighted mean.\n",
    "* More tips for speeding up loops https://wiki.python.org/moin/PythonSpeed/PerformanceTips#Loops"
   ]
  },
  {
   "cell_type": "code",
   "execution_count": null,
   "metadata": {},
   "outputs": [],
   "source": []
  },
  {
   "cell_type": "markdown",
   "metadata": {},
   "source": [
    "*Exercise 2*: West coast and East coast.\n",
    "\n",
    "Now, let's check if the pages of rappers from different coasts tend to have different sentiment. \n",
    "\n",
    "> * First, think about it for a second: Do you expect pages of rappers from different coasts to have different sentiment? Why/why not?\n",
    "> * Next, Download [this file](https://github.com/SocialComplexityLab/socialgraphs2023/edit/main/files/Rappers.csv) if you do not have it already.\n",
    "> * Start by plotting the distribution of sentiment for the pages of east-coast and west-coast rappers separately. \n",
    "> * Now calculate the mean, median, 10th percentile, and 90 percentile sentiment value for each coast and indicate those values on the corresponding histograms.\n",
    "> * Comment on these distributions and how they relate to the overall sentiment distribution you calculated in Exercise 1 above.\n",
    "> * Use the \"label shuffling technique\" that I illustrated in **Week 5, exercise 7** to determine whether or not \n",
    ">   1. the west-coast pages tend to have lower sentiment than a similarly sized group of randomly chosen rapper pages (pick random groups 1000 times and reject the hypothesis if 5% of the random outcomes are lower than the actual value observed for the west-coast pages)\n",
    ">   2. the west-coast pages tend to have higher sentiment than a similarly sized group of randomly chosen character pages (again, use 1000 random draws and a 5% confidence bound).\n",
    ">   3. (**optional**) Perhaps there are other divisions of rappers whose pages would be more likely to have different sentiment. Perhaps comparing groups of rappers of different sexes, races, etc. would give interesting results? Feel free to do a deep dive here, and let me know which groups you analyze and how you end up \"guessing\" a rapper's sex, race, etc. \n",
    "\n",
    "Comment: The \"label shuffling technique\" is incredibly useful. It may turn out to be a good tool to apply for your independent project. Keep it in mind."
   ]
  },
  {
   "cell_type": "markdown",
   "metadata": {},
   "source": [
    "# Part B (optional): The Wikispeedia Extravaganza\n",
    "\n",
    "This final **AND OPTIONAL** exercise is about tying everything together. In this context \"optional\" means that the exercises below will not be on the assignment (but they're fun & cool).\n",
    "\n",
    "We try to combine our work on networks plus our work on language in order to understand and analyze human behavior. We'll be working on a cool dataset of humans playing a game on (a special version of) wikipedia called \"wikispeedia\".  Note that the game is now called *The Wiki Game* and can be found at http://thewikigame.com/ ( ... while \"http://wikispeedia.org\" is a page about GPS coordinates of speed-traps). \n",
    "\n",
    "Here's how the game worked:\n",
    "\n",
    "> In the game, users are asked to navigate from a given _source_ article (e.g. https://en.wikipedia.org/wiki/Gold_dollar) to a given _target_ article (e.g. https://en.wikipedia.org/wiki/Ronald_Reagan), **by only clicking Wikipedia links**. A condensed version of Wikipedia (4,604 articles) is used. \n",
    "\n",
    "So this dataset contains **human navigation paths** (clicking from page to page to find a target) and today we will work on this dataset to see if we can use our skills to understand how human navigation works. We will think about the following questions.\n",
    "\n",
    "* Path lengths\n",
    "* Betweenness from the human perspective\n",
    "* What characterizes human paths?\n",
    "\n",
    "Let's get started."
   ]
  },
  {
   "cell_type": "markdown",
   "metadata": {},
   "source": [
    "### Download the dataset\n",
    "\n",
    "The first thing we're going to do is download the dataset. Today everything related to data is nice, clean, and easy to work with (Yay). You can get the dataset [here](https://snap.stanford.edu/data/wikispeedia.html). You will need to get \n",
    "\n",
    "* The list of wiki articles\n",
    "* The network connections\n",
    "* The navigation paths\n",
    "* Plaintext of the wiki articles"
   ]
  },
  {
   "cell_type": "markdown",
   "metadata": {},
   "source": [
    "### Path lengths\n",
    "\n",
    "The first thing we want to take a look at is path lengths. NetworkX allows us to calculate the shortest path between any pair of articles. We begin by comparing the length of human and shortests paths. \n",
    "\n",
    "_Optional Exercises 1_\n",
    "> * For each _source_/_target_ pair in the list of human navigation paths, calculate the shortest path using NetworkX. Plot the distribution of path lengths. Mine looks something like this (if I use an undirected graph):\n",
    "![alt text](https://raw.githubusercontent.com/suneman/socialgraphs2016/master/files/shortest-path.png)\n",
    "\n",
    "\n",
    "> * For each _source_/_target_ pair, calculate the length of the human path. The dataset contains information on people who regret a navigation step and hit the \"back\" button in their web-browser. It's up to you how to incorporate that information in the path. Justify your choice. Plot the distribution of human path lengths. If I ignore back steps, I get this on log-log scale:\n",
    "![alt text](https://raw.githubusercontent.com/suneman/socialgraphs2016/master/files/human-path.png)\n",
    "\n",
    "> * How much longer are the human paths on average?\n",
    "> * Create scatter plot where each point is a _source_/_target_ pair, and you have human path lengths on the $x$-axis and shortests paths on the $y$-axis.\n",
    "> * Is there a correlation between human/shortest path-lengths? What is the correlation."
   ]
  },
  {
   "cell_type": "markdown",
   "metadata": {},
   "source": [
    "### Betweenness\n",
    "\n",
    "An interesting definition of centrality is _betweenness centrality_ (here's a handy [link to the NetworkX documentation](http://networkx.readthedocs.io/en/stable/reference/generated/networkx.algorithms.centrality.betweenness_centrality.html)). In a traditional setting, this measure calculates all shortest paths in the network and then each node gets a score according to which fraction of all shortest paths pass through that node.\n",
    "\n",
    "\n",
    "In this part, we will create our own version of centrality, based on the _source_/_target_ pairs in our dataset. We define a node's **navigation centrality** as follows. \n",
    "\n",
    "> *Navigation centrality* of node $i$ is the fraction of all navigation paths that pass through $i$. We exclude the source and target from the count. If a node has not been visited by a search, the navigation centrality of that node is defined to be zero.\n",
    "\n",
    "In the exercises below, we investigate the relationship between navigation centrality and betweenness centrality."
   ]
  },
  {
   "cell_type": "markdown",
   "metadata": {},
   "source": [
    "*Optional Exercises 2*\n",
    "\n",
    "> Begin by calculating the betweenness centrality and navigation centrality of all nodes in the Wikispeedia dataset.\n",
    "> Note that calculating the betweenness centrality can take quite a long time, so you might start it running in a separate notebook while first estimating it based on the existing human path.\n",
    ">\n",
    "> * First, list the 5 pages with highest navigation centrality.\n",
    "> * Second, list the 5 pages with highest betweenness centrality.\n",
    "> * Compare the two lists. Explain the differences between the two lists in your own words.\n",
    "> * Create a scatterplot of betweenness centrality vs. navigation centrality.\n",
    "> * Let's explore the pages that have navigation centrality equal to zero.\n",
    ">   * How many pages have zero navigation centrality?\n",
    ">   * What is the the page with zero navigation centrality and highest betweenness centrality? Can you explain why no human navigated to this page? Can you explain why the page is central in the actual link network? (For example, you can take a look at the degree of the node).\n",
    ">   * Plot the distribution of betweenness centrality for the pages with zero navigation centrality. My plot on log-log scale:\n",
    "![alt text](https://raw.githubusercontent.com/suneman/socialgraphs2016/master/files/betweenness.png)\n",
    "\n",
    "> * Now, let's *throw out all pages with zero navigation centrality* and compare navigation- and betweenness centrality for the remaining pages.\n",
    ">   * What is the correlation between betweenness centrality and navigation centrality?\n",
    ">   * Comment on the top 5 outliers."
   ]
  },
  {
   "cell_type": "markdown",
   "metadata": {},
   "source": [
    "# Bringing the text into the picture\n",
    "\n",
    "Now that we have an idea about the differences between how humans and computers search in networks, we are going to dig a little deeper using the page content to test a hypothesis to explain why the human navigation paths are longer. The general idea is that humans (who don't know about the global network structure) tend to jump between pages that have related _content_. For this reason we expect that (on average) human navigation paths have more similar content than the shortest paths in the network (which might take 'surprising' shortcuts via relatively unrelated pages). In short.\n",
    "\n",
    "> **Hypothesis H1**: Human navigation paths have more similar content than network shortest paths.\n",
    "\n",
    "The way we'll test this hypothesis is to first represent each page as a vector using a bag-of-words approach, then we can calculate a distance between pairs of pages using some vector-space difference, and finally we'll characterize each path by its average pair-wise distance. Below, I've set up that process as an exercise. "
   ]
  },
  {
   "cell_type": "markdown",
   "metadata": {},
   "source": [
    "*Optional Exercises 3*\n",
    "\n",
    "> First, create a TF-IDF vector for each page. You already know all about TF-IDF from last week's exercise. The main difference is that we now _characterize **each page** by a TF-IDF vector_ and not a group of pages.\n",
    "> \n",
    "> Second, write a function that calculates the distance between a pair of vectors. There are many ways to calculate distances between a pair of vectors (try a Google search for `vector space distance measures` if you want to refresh your knowledge on this topic). You're free to choose what you want, but we recommend the [cosine similarity](https://en.wikipedia.org/wiki/Cosine_similarity).\n",
    ">\n",
    "> Now you're ready for the exercises\n",
    "> \n",
    "> * Calculate the average pairwise similarity for all human navigation paths (the _source_/_target_ pairs from above). With start and end at node $i,j$ we can call this similarity $s_{i,j}$. Calculate mean/variance of the $s_{ij}$'s.\n",
    "> * Calculate the average pairwise similarity for all shortest paths between the _source_/_target_ pairs ($S_{i,j}$). Calculate mean/variance of the $S_{i,j}$.\n",
    "> * Plot the distributions of average similarities for both human- and shortest paths in a single plot. If everything works well, you should see something similar to the following:\n",
    "![alt text](https://raw.githubusercontent.com/suneman/socialgraphs2016/master/files/path-similarity.png)\n",
    "\n",
    "> * Finally, for each source/target pair, compare the human-navigation average similarity with the betweenness based average similarity, testing what fraction of the time, the average similarity is lower in the case of human navigation.\n",
    "> * Comment on your findings. Is **H1** true?"
   ]
  },
  {
   "cell_type": "code",
   "execution_count": null,
   "metadata": {},
   "outputs": [],
   "source": []
  }
 ],
 "metadata": {
  "kernelspec": {
   "display_name": "Python 3 (ipykernel)",
   "language": "python",
   "name": "python3"
  },
  "language_info": {
   "codemirror_mode": {
    "name": "ipython",
    "version": 3
   },
   "file_extension": ".py",
   "mimetype": "text/x-python",
   "name": "python",
   "nbconvert_exporter": "python",
   "pygments_lexer": "ipython3",
   "version": "3.11.6"
  }
 },
 "nbformat": 4,
 "nbformat_minor": 4
}
